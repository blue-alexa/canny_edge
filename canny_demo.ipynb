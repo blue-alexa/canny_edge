{
 "cells": [
  {
   "cell_type": "code",
   "execution_count": null,
   "metadata": {
    "collapsed": true
   },
   "outputs": [],
   "source": [
    "from numpy import arange, array, exp, finfo, float64, hypot, max, ones, pad, pi, round, sum, tan, where, zeros_like, zeros\n",
    "from matplotlib.image import imread\n",
    "from matplotlib.pyplot import axis, figure, imshow, imsave, subplot, show, title, tight_layout, savefig\n",
    "from scipy.ndimage import label\n",
    "% matplotlib inline\n",
    "\n",
    "\"\"\"\n",
    "Naive implementation of Canny edge detector.\n",
    "Reference:\n",
    "https://en.wikipedia.org/wiki/Canny_edge_detector.\n",
    "\"\"\"\n",
    "\n",
    "def luminance_convert(image):\n",
    "    \"\"\"\n",
    "    Convert RGB color to luminance.\n",
    "    Formula: Luminance = (0.2126*R + 0.7152*G + 0.0722*B) \n",
    "\n",
    "    Input:\n",
    "    - image: Input array of shape (H, W, 3)\n",
    "    \n",
    "    Returns:\n",
    "    - out: Output data, of shape (H, W)          \n",
    "    \"\"\"\n",
    "    H, W, _ = image.shape\n",
    "    out = zeros((H,W))\n",
    "    out = 0.2126*image[:,:,0]+0.7152*image[:,:,1]+0.0722*image[:,:,2]\n",
    "    out = round(out, 2)\n",
    "    return out\n",
    "\n",
    "def gaussian_filter(image, sigma = 1):\n",
    "    \"\"\"\n",
    "    A naive implementation of gaussian filter on image luminance.\n",
    "\n",
    "    Input:\n",
    "    - image: Input data of shape (H, W)\n",
    "    - sigma: standard deviation of Gaussian filter.\n",
    "\n",
    "    Returns: \n",
    "    - out: Output data, of shape (H, W) \n",
    "    \"\"\"\n",
    "    # Calculate 1d Gaussian filter coefficient.\n",
    "    halfwidth = 3*sigma\n",
    "    x = arange(-halfwidth, halfwidth+1, 1)\n",
    "    gau_1d = exp(-1/(2*sigma**2)*(x**2))\n",
    "    gau_1d = round(gau_1d, 2)\n",
    "    gau_1d = gau_1d/sum(gau_1d)\n",
    "\n",
    "    H,W = image.shape\n",
    "    WW = len(gau_1d)\n",
    "    out = zeros_like(image)\n",
    "    p = int((WW-1)/2)\n",
    "\n",
    "    # Row convolution of 1d gaussian filter\n",
    "    img_pad = pad(image, ((0,0), (p, p)), 'edge')\n",
    "    \n",
    "    for r in range(0, H):\n",
    "        for c in range(0, W):\n",
    "            out[r, c] = sum(img_pad[r, c:c+WW]*gau_1d)    \n",
    "\n",
    "    # Column convolution of 1d gaussian filter\n",
    "    img_pad = pad(out, ((p,p), (0, 0)), 'edge')\n",
    "    \n",
    "    for c in range(0, W):\n",
    "        for r in range(0, H):\n",
    "            out[r, c] = sum(img_pad[r:r+WW, c]*gau_1d)\n",
    "    \n",
    "    out = round(out, 2)\n",
    "    return out\n",
    "\n",
    "def Sobel_filter(image):\n",
    "    \"\"\"\n",
    "    A naive implementation of Sobel filter on input image.\n",
    "\n",
    "    Input:\n",
    "    - image: Input data of shape (H, W)\n",
    "\n",
    "    Returns: \n",
    "    - out_x: Sobel filter on x-axis, output data of shape (H, W) \n",
    "    - out_y: Sobel filter on y-axis, output data of shape (H, W)     \n",
    "    \"\"\"\n",
    "\n",
    "    Gx = array([[1,0,-1],[2,0,-2],[1,0,-1]])\n",
    "    Gy = Gx.T\n",
    "    H, W = image.shape\n",
    "\n",
    "    img_pad = pad(image, ((1,1), (1, 1)), 'edge')\n",
    "    sobel_x = zeros_like(image)\n",
    "    sobel_y = zeros_like(image)\n",
    "\n",
    "    # Convolution of Gx filter.\n",
    "    for r in range(0, H):\n",
    "        for c in range(0, W):\n",
    "            sobel_x[r, c] = sum(img_pad[r:r+3, c:c+3]*Gx)\n",
    "\n",
    "    # Convolution of Gy filter.\n",
    "    for r in range(0, H):\n",
    "        for c in range(0, W):\n",
    "            sobel_y[r, c] = sum(img_pad[r:r+3, c:c+3]*Gy)\n",
    "    \n",
    "    return sobel_x, sobel_y\n",
    "\n",
    "def Non_max_suppression(sobel_x, sobel_y):\n",
    "    \"\"\"\n",
    "    A naive implementation of Non-maximum suppression.\n",
    "\n",
    "    Input:\n",
    "    - sobel_x: gradient at x-axis after Sobel operator, input data of shape (H, W).\n",
    "    - sobel_y: gradient at y-axis after Sobel operator, input data of shape (H, W).\n",
    "    \n",
    "    Returns:\n",
    "    - edge: edge pixel with gradient magnitude, output data of shape (H, W).\n",
    "    - mask: mask for edge, output data of shape (H, W), dtype=bool\n",
    "    \"\"\"    \n",
    "    magnitude = hypot(sobel_x, sobel_y)\n",
    "    \n",
    "    # Replace zero value with minimum value to calculate tan value\n",
    "    sobel_x = where(sobel_x==0, finfo(float64).eps, sobel_x)\n",
    "    angle = sobel_y/sobel_x\n",
    "    \n",
    "    # Categorizes the continuous gradient directions into a discrete directions of \n",
    "    # 0 degree, 45 degree, 90 degree, 135 degree\n",
    "    mask_0 = (angle<=tan(pi/8)) & (angle>=tan(7*pi/8))\n",
    "    mask_45 = (angle<=tan(3*pi/8)) & (angle>=tan(pi/8))\n",
    "    mask_90 = (angle<=tan(5*pi/8)) | (angle>=tan(3*pi/8))\n",
    "    mask_135 = (angle<=tan(7*pi/8)) & (angle>=tan(5*pi/8)) \n",
    "    \n",
    "    # Compare edge strength of the current pixel to the other pixels in the mask with the same direction, \n",
    "    # preserve current edge strength only when it is largest in comparison.\n",
    "    # ----- 0 degrees ------\n",
    "    mag_l = pad(magnitude, ((0,0),(0,1)), 'constant', constant_values = 0)\n",
    "    mag_l = mag_l[:,1:]\n",
    "    left = (magnitude*mask_0)>(mag_l*mask_0)\n",
    "\n",
    "    mag_r = pad(magnitude, ((0,0),(1,0)), 'constant', constant_values = 0)\n",
    "    mag_r = mag_r[:,:-1]\n",
    "    right = (magnitude*mask_0)>(mag_r*mask_0)\n",
    "\n",
    "    mask_0_1 = left & right\n",
    "    \n",
    "    # ----- 90 degrees ------\n",
    "    mag_t = pad(magnitude, ((1,0),(0,0)), 'constant', constant_values = 0)\n",
    "    mag_t = mag_t[:-1, :]\n",
    "    top = (magnitude*mask_90)>(mag_t*mask_90)\n",
    "\n",
    "    mag_b = pad(magnitude, ((0,1),(0,0)), 'constant', constant_values = 0)\n",
    "    mag_b = mag_b[1:, :]\n",
    "\n",
    "    bottom = (magnitude*mask_90)>(mag_b*mask_90)\n",
    "    mask_90_1 = top & bottom\n",
    "    \n",
    "    # ----- 45 degrees ------\n",
    "    mag_ne = pad(magnitude, ((1,0),(0,1)), 'constant', constant_values = 0)\n",
    "    mag_ne = mag_ne[:-1, 1:]\n",
    "    ne = (magnitude*mask_45)>(mag_ne*mask_45)\n",
    "\n",
    "    mag_sw = pad(magnitude, ((0,1),(1,0)), 'constant', constant_values = 0)\n",
    "    mag_sw = mag_sw[1:, :-1]\n",
    "    sw = (magnitude*mask_45)>(mag_sw*mask_45)\n",
    "\n",
    "    mask_45_1 = ne & sw\n",
    "    \n",
    "    # ----- 135 degrees ------\n",
    "    mag_nw = pad(magnitude, ((1,0),(1,0)), 'constant', constant_values = 0)\n",
    "    mag_nw = mag_nw[:-1, :-1]\n",
    "    nw = (magnitude*mask_135)>(mag_nw*mask_135)\n",
    "\n",
    "    mag_se = pad(magnitude, ((0,1),(0,1)), 'constant', constant_values = 0)\n",
    "    mag_se = mag_se[1:, 1:]\n",
    "    se = (magnitude*mask_135)>(mag_se*mask_135)\n",
    "    mask_135_1 = nw & se\n",
    "    \n",
    "    mask = (mask_0_1)|(mask_90_1)|(mask_45_1)|(mask_135_1)\n",
    "    edge = magnitude*mask\n",
    "    \n",
    "    return edge, mask, magnitude   \n",
    "\n",
    "def hysteresis(edge, mask, low_threshold=None, high_threshold=None):\n",
    "    \"\"\"\n",
    "    Double thresholding. \n",
    "    Preserve weak edge pixels connected to strong edge pixels as good edge pixels.\n",
    "\n",
    "    Input:\n",
    "    - edge: edge pixel with gradient magnitude, input data of shape (H, W).\n",
    "    - mask: mask for edge, input data of shape (H, W), dtype=bool\n",
    "    - low_threshold : float\n",
    "        Lower bound for hysteresis thresholding (linking edges).\n",
    "        If None, low_threshold is set to 10% of max gradient magitude.\n",
    "    - high_threshold : float\n",
    "        Upper bound for hysteresis thresholding (linking edges).\n",
    "        If None, high_threshold is set to 20% of max gradient magitude.\n",
    "\n",
    "    Returns:\n",
    "    - good_edge: binary edge map, output data of shape (H, W).\n",
    "    \"\"\"\n",
    "\n",
    "    # Create two masks at the two thresholds.\n",
    "    if low_threshold is None:\n",
    "        low_threshold = 0.1 * max(edge)\n",
    "\n",
    "    if high_threshold is None:\n",
    "        high_threshold = 0.2 * max(edge)\n",
    "\n",
    "    high_mask = mask & (edge >= high_threshold)\n",
    "    low_mask = mask & (edge >= low_threshold)\n",
    "\n",
    "    # Label connected pixels in the low threshold mask. If labeled pixels in low threshold\n",
    "    # mask is also positive in high threshold mask, preserve labeled pixels as good edge.\n",
    "    strel = ones((3, 3), bool)\n",
    "    labels, count = label(low_mask, strel)\n",
    "\n",
    "    good_edge = zeros_like(mask)\n",
    "\n",
    "    for i in arange(1, count+1):\n",
    "        if sum(high_mask[labels==i])>0:\n",
    "            good_edge[labels==i]=1\n",
    "\n",
    "    return good_edge"
   ]
  },
  {
   "cell_type": "code",
   "execution_count": null,
   "metadata": {
    "collapsed": true
   },
   "outputs": [],
   "source": [
    "def image_show(image, figsize=(10,8), cmap=None):\n",
    "    figure(figsize = (10,8))\n",
    "    if cmap:\n",
    "        imshow(image, cmap=cmap)\n",
    "    else:\n",
    "        imshow(image)\n",
    "    axis('off')\n",
    "    tight_layout()\n",
    "    return figure"
   ]
  },
  {
   "cell_type": "code",
   "execution_count": null,
   "metadata": {
    "collapsed": true
   },
   "outputs": [],
   "source": [
    "image = imread('bird.jpg')\n",
    "image_show(image)"
   ]
  },
  {
   "cell_type": "code",
   "execution_count": null,
   "metadata": {
    "collapsed": true
   },
   "outputs": [],
   "source": [
    "luminance = luminance_convert(image)\n",
    "image_show(luminance)"
   ]
  },
  {
   "cell_type": "code",
   "execution_count": null,
   "metadata": {
    "collapsed": true
   },
   "outputs": [],
   "source": [
    "gaussian = gaussian_filter(luminance)\n",
    "image_show(gaussian)"
   ]
  },
  {
   "cell_type": "code",
   "execution_count": null,
   "metadata": {
    "collapsed": true
   },
   "outputs": [],
   "source": [
    "sobel_x, sobel_y = Sobel_filter(gaussian)"
   ]
  },
  {
   "cell_type": "code",
   "execution_count": null,
   "metadata": {
    "collapsed": true
   },
   "outputs": [],
   "source": [
    "image_show(sobel_x)"
   ]
  },
  {
   "cell_type": "code",
   "execution_count": null,
   "metadata": {
    "collapsed": true
   },
   "outputs": [],
   "source": [
    "image_show(sobel_y)"
   ]
  },
  {
   "cell_type": "code",
   "execution_count": null,
   "metadata": {
    "collapsed": true
   },
   "outputs": [],
   "source": [
    "edge, mask, magnitude = Non_max_suppression(sobel_x, sobel_y)"
   ]
  },
  {
   "cell_type": "code",
   "execution_count": null,
   "metadata": {
    "collapsed": true
   },
   "outputs": [],
   "source": [
    "image_show(magnitude, cmap='Greys')"
   ]
  },
  {
   "cell_type": "code",
   "execution_count": null,
   "metadata": {
    "collapsed": true
   },
   "outputs": [],
   "source": [
    "image_show(edge, cmap='Greys')"
   ]
  },
  {
   "cell_type": "code",
   "execution_count": null,
   "metadata": {
    "collapsed": true
   },
   "outputs": [],
   "source": [
    "canny_edge = hysteresis(edge, mask)"
   ]
  },
  {
   "cell_type": "code",
   "execution_count": null,
   "metadata": {
    "collapsed": true
   },
   "outputs": [],
   "source": [
    "image_show(canny_edge, cmap='Greys')"
   ]
  },
  {
   "cell_type": "code",
   "execution_count": null,
   "metadata": {
    "collapsed": true
   },
   "outputs": [],
   "source": [
    "canny_edge2 = hysteresis(edge, mask, 10, 30)"
   ]
  },
  {
   "cell_type": "code",
   "execution_count": null,
   "metadata": {
    "collapsed": true
   },
   "outputs": [],
   "source": [
    "image_show(canny_edge2, cmap='Greys')"
   ]
  },
  {
   "cell_type": "code",
   "execution_count": null,
   "metadata": {
    "collapsed": true
   },
   "outputs": [],
   "source": [
    "figure(figsize=(20,5))\n",
    "subplot(1,3,1)\n",
    "title(\"Original image\")\n",
    "imshow(image)\n",
    "axis('off')\n",
    "\n",
    "subplot(1,3,2)\n",
    "title(\"Luminance\")\n",
    "imshow(luminance)\n",
    "axis('off')\n",
    "\n",
    "subplot(1,3,3)\n",
    "title(\"Gaussian blur\")\n",
    "imshow(gaussian)\n",
    "axis('off')\n",
    "\n",
    "tight_layout()\n",
    "\n",
    "show()"
   ]
  },
  {
   "cell_type": "code",
   "execution_count": null,
   "metadata": {
    "collapsed": true
   },
   "outputs": [],
   "source": [
    "figure(figsize=(14,5))\n",
    "subplot(1,2,1)\n",
    "title(\"Gradient at x axis\")\n",
    "imshow(sobel_x)\n",
    "axis('off')\n",
    "\n",
    "subplot(1,2,2)\n",
    "title(\"Gradient at y axis\")\n",
    "imshow(sobel_y)\n",
    "axis('off')\n",
    "\n",
    "tight_layout()\n",
    "show()"
   ]
  },
  {
   "cell_type": "code",
   "execution_count": null,
   "metadata": {
    "collapsed": true
   },
   "outputs": [],
   "source": [
    "figure(figsize=(14,5))\n",
    "subplot(1,2,1)\n",
    "title(\"Gradient magnitude before Non-maximum suppression\")\n",
    "imshow(magnitude, cmap = 'Greys')\n",
    "axis('off')\n",
    "\n",
    "subplot(1,2,2)\n",
    "title(\"Gradient magnitude after Non-maximum suppression\")\n",
    "imshow(edge, cmap = 'Greys')\n",
    "axis('off')\n",
    "\n",
    "tight_layout()\n",
    "show()"
   ]
  },
  {
   "cell_type": "code",
   "execution_count": null,
   "metadata": {
    "collapsed": true
   },
   "outputs": [],
   "source": [
    "figure(figsize=(14,5))\n",
    "subplot(1,2,1)\n",
    "title(\"Default double threshold\")\n",
    "imshow(canny_edge, cmap = 'Greys')\n",
    "axis('off')\n",
    "\n",
    "subplot(1,2,2)\n",
    "title(\"Low threshold = 10, High threshold = 30\")\n",
    "imshow(canny_edge2, cmap = 'Greys')\n",
    "axis('off')\n",
    "\n",
    "tight_layout()\n",
    "show()"
   ]
  }
 ],
 "metadata": {
  "kernelspec": {
   "display_name": "Python [conda env:py36]",
   "language": "python",
   "name": "conda-env-py36-py"
  },
  "language_info": {
   "codemirror_mode": {
    "name": "ipython",
    "version": 3
   },
   "file_extension": ".py",
   "mimetype": "text/x-python",
   "name": "python",
   "nbconvert_exporter": "python",
   "pygments_lexer": "ipython3",
   "version": "3.6.1"
  }
 },
 "nbformat": 4,
 "nbformat_minor": 1
}
